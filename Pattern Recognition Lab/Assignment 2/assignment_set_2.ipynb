{
 "cells": [
  {
   "cell_type": "markdown",
   "metadata": {},
   "source": [
    "# Question 1\n",
    "## Verification of ML Estimate of Mean and variance of Normal distribution\n",
    "1. Write a function that generates a sample of n normally distributed random variables of given dimension d, mean mu and covariance sigma.\n",
    "2. Compute the sample mean and covariance matrix.\n",
    "3. Compute the error between the sample statistics and the actual parameters.\n",
    "4. Repeat this for increasing sample sizes ranging from 100 to say 10000 for one and two dimensional random vectors and plot the squared errors generated as a function of n.(As n grows larger the error should grow smaller and smaller)"
   ]
  },
  {
   "cell_type": "code",
   "execution_count": 10,
   "metadata": {},
   "outputs": [
    {
     "data": {
      "image/png": "[encoded data removed]",
      "text/plain": [
       "<matplotlib.figure.Figure at 0x9bc5610>"
      ]
     },
     "metadata": {},
     "output_type": "display_data"
    }
   ],
   "source": [
    "import numpy as np\n",
    "import math\n",
    "import matplotlib.pyplot as plt\n",
    "\n",
    "def createData(n, d, mu, sigma):\n",
    "    x = np.zeros((n, d))\n",
    "    x = np.random.multivariate_normal(mu, sigma, n)\n",
    "    return x\n",
    "\n",
    "def main():\n",
    "    upper = 10000\n",
    "    lower = 100\n",
    "    step = 10\n",
    "    d = 1\n",
    "    mu = [0]\n",
    "    sigma = [[1]]\n",
    "    err = np.zeros(int(upper/step))\n",
    "    i = 0\n",
    "    for n in range(lower, upper, step):\n",
    "        data = createData(n, d, mu, sigma)\n",
    "        sMu = np.mean(data, axis=0)\n",
    "        sSigma = np.var(data)\n",
    "        err[i] = math.sqrt(((mu - sMu)**2 + (sigma - sSigma)**2))\n",
    "        i+=1\n",
    "    \n",
    "    plt.plot(err)\n",
    "    plt.axvline(x=0)\n",
    "    plt.axhline(y=0)\n",
    "    plt.show()\n",
    "    \n",
    "main()\n"
   ]
  },
  {
   "cell_type": "markdown",
   "metadata": {},
   "source": [
    "### ***WORKING ON REAL DATA***\n"
   ]
  },
  {
   "cell_type": "markdown",
   "metadata": {},
   "source": [
    "***Bayesian classifier *** is a supervised technique as the class specific parameters of the distributions are to estimated from the observations. This requires labelled data. From the data belonging to each class the parameters are estimated. The decision boundary is computed using the estimated parameters. In this assignment we will be doing exactly this. <br\\>\n",
    "Also through this assignment we will see how a supervised learning algorithm is developed using the data given to us. Assume that we have been given a sample of size N. We divide this into two sets namely **Training set** and **Test set**. The training set is used for estimating the parameters and also computing the decision boundary.\n",
    "The Test set is used to check how well the classifier is performing. We compute accuracy measures on the testing test. (Make sure that Training and Test Sets contain no common elements - because we want to see how well the algorithm can discriminate previously unseen observations.)<br\\>\n",
    "Generally the major portion of the data set will be the training set as estimating the parameters of the classifier requires a good number of observations. Therefore it is a common practice to split the data set as 70:30 for training and test set respectively. That is 70% will be given for traning and 30% for testing. And the data vectors are randomly picked to be assigned to both classes."
   ]
  },
  {
   "cell_type": "markdown",
   "metadata": {},
   "source": [
    "#### Data Set (Pima Indians diabetes dataset)\n",
    "- https://archive.ics.uci.edu/ml/datasets/Pima+Indians+Diabetes <br\\>\n",
    "Read the description of the data also to get a better understanding of the problem.\n",
    "- Download the data as a file with csv extension into the same directory as this notebook.\n",
    "- There are two classes in this dataset.\n",
    "- The functions for reading the csv file and splitting the data set into training and test sets is given in the cell below. Go through the code and understand it."
   ]
  },
  {
   "cell_type": "code",
   "execution_count": 11,
   "metadata": {},
   "outputs": [],
   "source": [
    "import csv\n",
    "import numpy as np\n",
    "from copy import deepcopy\n",
    "\n",
    "#reads the csv file and returns a numpy array dataset of dimensions Nx(d+1). N is the number of random vectors and \n",
    "#d is the dimension. dataset has N rows each one being an observation of dimension d. the (d+1)th column \n",
    "# contains the labels.\n",
    "def loadCsv(filename):\n",
    "    lines = csv.reader(open(filename, \"rt\"))#read the file\n",
    "    dataset = list(lines)\n",
    "    for i in range(len(dataset)):\n",
    "        dataset[i] = [float(x) for x in dataset[i]] #converting to floating point numbers from integers\n",
    "    dataset = np.asfarray(dataset)#list to numpy array conversion\n",
    "    return dataset\n",
    "\n",
    "# splits the entire set into training and test set. training set will contain splitratio x N number of observations\n",
    "# randomly chosen from the set. the rest will go to the test set.\n",
    "def splitDataset(dataset, splitratio):\n",
    "    trainsize = int(np.round(dataset.shape[0]*splitratio))\n",
    "    trainset = np.zeros((trainsize,dataset.shape[1]))#array to store the training set.\n",
    "    testset = deepcopy(dataset)#create a copy of the dataset in test set.\n",
    "    for numsamples in range(trainsize):\n",
    "        indx = np.random.randint(0,testset.shape[0])#random index generation\n",
    "        trainset[numsamples,:] = testset[indx,:]#adding the randomly selected data vector to the training set\n",
    "        testset = np.delete(testset, indx, axis = 0)#delete the selected observation from the test set.\n",
    "    return trainset,testset\n",
    "\n",
    "#the input to this function is an Nxd+1 array. it returns a dictionary databyclass which has two items containing \n",
    "#observations in the array segregated into the two classes.\n",
    "def seperateByClass(dataset):\n",
    "    databyclass = {}\n",
    "    for vector in dataset:\n",
    "        classid = int(vector[-1])\n",
    "        if classid not in databyclass:\n",
    "            databyclass[classid] = []\n",
    "        databyclass[classid].append(vector)\n",
    "    for classid in databyclass.keys():\n",
    "        databyclass[classid] = np.asfarray(databyclass[classid])\n",
    "    return databyclass\n"
   ]
  },
  {
   "cell_type": "markdown",
   "metadata": {},
   "source": [
    "Unlike the previous assignment this time we are working on a real data set. In fact we have no idea what kind of distribution that data is following in each class. Therefore we make some assumptions about the distributions. Assume that data belonging to both classes are normally distributed. Another simplifying assumption is that the covariance matrix is diagonal, so that you need to compute only the variance of each individual feature separately.(**This is called naive bayes assumption**)"
   ]
  },
  {
   "cell_type": "markdown",
   "metadata": {},
   "source": [
    "# Question 2\n",
    "1. Compute the mean and covariance matrix of each class.\n",
    "2. Compute the prior probabilities of the two classes.\n",
    "3. Write a classifier function that returns the class label of an input data vector.\n",
    "4. Compute the classification accuracy as we did in the first assignment."
   ]
  },
  {
   "cell_type": "code",
   "execution_count": 12,
   "metadata": {
    "scrolled": false
   },
   "outputs": [
    {
     "name": "stdout",
     "output_type": "stream",
     "text": [
      "mu1:  [   3.1416185   109.89017341   68.05202312   19.78901734   67.87283237\n",
      "   30.48236994    0.40871965   30.78323699] \n",
      "sigma1:  [[  8.65913495e+00   0.00000000e+00   0.00000000e+00   0.00000000e+00\n",
      "    0.00000000e+00   0.00000000e+00   0.00000000e+00   0.00000000e+00]\n",
      " [  0.00000000e+00   6.84964817e+02   0.00000000e+00   0.00000000e+00\n",
      "    0.00000000e+00   0.00000000e+00   0.00000000e+00   0.00000000e+00]\n",
      " [  0.00000000e+00   0.00000000e+00   3.23552207e+02   0.00000000e+00\n",
      "    0.00000000e+00   0.00000000e+00   0.00000000e+00   0.00000000e+00]\n",
      " [  0.00000000e+00   0.00000000e+00   0.00000000e+00   2.26860111e+02\n",
      "    0.00000000e+00   0.00000000e+00   0.00000000e+00   0.00000000e+00]\n",
      " [  0.00000000e+00   0.00000000e+00   0.00000000e+00   0.00000000e+00\n",
      "    8.80416302e+03   0.00000000e+00   0.00000000e+00   0.00000000e+00]\n",
      " [  0.00000000e+00   0.00000000e+00   0.00000000e+00   0.00000000e+00\n",
      "    0.00000000e+00   5.77126661e+01   0.00000000e+00   0.00000000e+00]\n",
      " [  0.00000000e+00   0.00000000e+00   0.00000000e+00   0.00000000e+00\n",
      "    0.00000000e+00   0.00000000e+00   7.44953578e-02   0.00000000e+00]\n",
      " [  0.00000000e+00   0.00000000e+00   0.00000000e+00   0.00000000e+00\n",
      "    0.00000000e+00   0.00000000e+00   0.00000000e+00   1.30539719e+02]]\n",
      "\n",
      "mu2:  [   4.86458333  141.00520833   71.92708333   22.88020833  108.48958333\n",
      "   34.9078125     0.52322917   37.51041667] \n",
      "sigma2:  [[  1.36691623e+01   0.00000000e+00   0.00000000e+00   0.00000000e+00\n",
      "    0.00000000e+00   0.00000000e+00   0.00000000e+00   0.00000000e+00]\n",
      " [  0.00000000e+00   1.10494268e+03   0.00000000e+00   0.00000000e+00\n",
      "    0.00000000e+00   0.00000000e+00   0.00000000e+00   0.00000000e+00]\n",
      " [  0.00000000e+00   0.00000000e+00   3.84432183e+02   0.00000000e+00\n",
      "    0.00000000e+00   0.00000000e+00   0.00000000e+00   0.00000000e+00]\n",
      " [  0.00000000e+00   0.00000000e+00   0.00000000e+00   3.07595025e+02\n",
      "    0.00000000e+00   0.00000000e+00   0.00000000e+00   0.00000000e+00]\n",
      " [  0.00000000e+00   0.00000000e+00   0.00000000e+00   0.00000000e+00\n",
      "    2.06500624e+04   0.00000000e+00   0.00000000e+00   0.00000000e+00]\n",
      " [  0.00000000e+00   0.00000000e+00   0.00000000e+00   0.00000000e+00\n",
      "    0.00000000e+00   4.86034285e+01   0.00000000e+00   0.00000000e+00]\n",
      " [  0.00000000e+00   0.00000000e+00   0.00000000e+00   0.00000000e+00\n",
      "    0.00000000e+00   0.00000000e+00   1.14480583e-01   0.00000000e+00]\n",
      " [  0.00000000e+00   0.00000000e+00   0.00000000e+00   0.00000000e+00\n",
      "    0.00000000e+00   0.00000000e+00   0.00000000e+00   1.29479058e+02]]\n",
      "\n",
      "p1:  0.6431226765799256 p2:  0.3568773234200744\n",
      "\n",
      "correct:  155 out of:  230\n",
      "accuracy:  67.3913043478261\n"
     ]
    }
   ],
   "source": [
    "def classifyData(X, mu1, sigma1, mu2, sigma2, p1): #get the class of data vector X\n",
    "    val = evaluate(X, mu1, sigma1, p1) - evaluate(X, mu2, sigma2, (1 - p1)) #finding ln(p1*P1(x)) = ln(p2*P2(x))\n",
    "    if(val > 0):\n",
    "        return 0 # class 1\n",
    "    else:\n",
    "        return 1 # class 2\n",
    "\n",
    "def evaluate(X, mu, sigma, p): # getting ln(p*P(X)) \n",
    "    p = np.log(p)\n",
    "    term1 = np.matmul(np.matmul((X - mu), np.linalg.inv(sigma)), (X - mu).transpose())\n",
    "    term2 = (mu.shape[0]/2) * np.log(2 * np.pi * np.linalg.det(sigma))\n",
    "    return (p - (0.5* term1) - term2)\n",
    "\n",
    "\n",
    "def main(): # main program\n",
    "    dataset = loadCsv(\"diabetes_data.csv\") # load dataset \n",
    "    trainset, testset = splitDataset(dataset, 0.7) # splitting the data set in particular ratio\n",
    "    tempSet = seperateByClass(trainset) # getting seperate distribution by class\n",
    "\n",
    "    # for class 1 mean, covariance, p1\n",
    "    mu1 = np.mean(tempSet[0][:, 0:8], axis = 0) \n",
    "    cov1 = np.diag(np.var(tempSet[0][:, 0:8], axis = 0))\n",
    "    print(\"mu1: \", mu1, \"\\nsigma1: \", cov1)\n",
    "    p1 = tempSet[0].shape[0]/(trainset.shape[0])\n",
    "    # for class 2 mean, covariance, p2 \n",
    "    mu2 = np.mean(tempSet[1][:, 0:8], axis = 0)\n",
    "    cov2 = np.diag(np.var(tempSet[1][:, 0:8], axis = 0))\n",
    "    print(\"\\nmu2: \", mu2, \"\\nsigma2: \", cov2)\n",
    "    p2 = 1 - p1\n",
    "\n",
    "    print(\"\\np1: \", p1, \"p2: \", p2) #prior probability\n",
    "    #testing with testset data\n",
    "    testCount = testset.shape[0]\n",
    "    out = np.zeros(testset.shape[0])\n",
    "    correct = 0\n",
    "    for i in range(0, testCount):\n",
    "        out[i] = classifyData(testset[i, 0:8], mu1, cov1, mu2, cov2, p1) #finding class of ith test element\n",
    "        if(out[i]==testset[i, 8]): # check for accuracy\n",
    "            correct+=1\n",
    "    #print(out)\n",
    "    #printing accuracy\n",
    "    print(\"\\ncorrect: \", correct, \"out of: \", testCount)\n",
    "    print(\"accuracy: \", (correct*100/testCount))\n",
    "    return\n",
    "    \n",
    "main() # call main program\n"
   ]
  }
 ],
 "metadata": {
  "kernelspec": {
   "display_name": "Python 3",
   "language": "python",
   "name": "python3"
  },
  "language_info": {
   "codemirror_mode": {
    "name": "ipython",
    "version": 3
   },
   "file_extension": ".py",
   "mimetype": "text/x-python",
   "name": "python",
   "nbconvert_exporter": "python",
   "pygments_lexer": "ipython3",
   "version": "3.6.0"
  }
 },
 "nbformat": 4,
 "nbformat_minor": 2
}
