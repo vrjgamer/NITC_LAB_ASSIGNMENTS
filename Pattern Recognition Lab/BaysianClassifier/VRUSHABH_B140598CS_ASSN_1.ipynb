{
 "cells": [
  {
   "cell_type": "markdown",
   "metadata": {},
   "source": [
    "### Assignment 1\n",
    "#### Vrushabh Jambhulkar (B140598CS)\n",
    "The parameter values are $P_1 = 0.6; \\mu_1 = (0,0); \\mu_2 = (2,2);$ $ \\Sigma_1 =  \\begin{bmatrix} 0.1 & 0 \\\\ 0 & 0.4 \\end{bmatrix}; \\Sigma_1 =  \\begin{bmatrix} 0.2 & 0 \\\\ 0 & 0.6 \\end{bmatrix} $\n"
   ]
  },
  {
   "cell_type": "code",
   "execution_count": 1,
   "metadata": {
    "scrolled": false
   },
   "outputs": [
    {
     "name": "stdout",
     "output_type": "stream",
     "text": [
      "[[-0.01967536  1.13751145]\n",
      " [-0.13086588  0.15903277]\n",
      " [ 0.07925922 -0.10858464]\n",
      " ..., \n",
      " [ 0.25279649  0.34608488]\n",
      " [ 0.45377196 -0.82635082]\n",
      " [-0.12181638  0.61155589]]\n",
      "correct observations out of 100 :  100 accuracy:  100.0\n"
     ]
    },
    {
     "data": {
      "text/plain": [
       "<matplotlib.figure.Figure at 0x7929250>"
      ]
     },
     "metadata": {},
     "output_type": "display_data"
    }
   ],
   "source": [
    "import numpy as np\n",
    "import matplotlib.pyplot as plt\n",
    "#############################################################################\n",
    "#function to generate test data\n",
    "def generatedata(P1, mu1, Sigma1, mu2, Sigma2, N):\n",
    "    Y = np.zeros(N)\n",
    "    t = np.random.uniform(0, 1, N) #uniform distribution between 0 - 1\n",
    "    Y[t<=P1] = 1 # assign the class lables to N*P1 elements\n",
    "    N1 = int(np.sum(Y)) #get count of all y==1 elements\n",
    "    X = np.zeros((N,2)) # x 2-d array\n",
    "    X[Y == 1] = np.random.multivariate_normal(mu1, Sigma1, N1)\n",
    "    X[Y == 0] = np.random.multivariate_normal(mu2, Sigma2, N-N1) \n",
    "    return X,Y\n",
    "#############################################################################\n",
    "#bayesian classifier function\n",
    "def bayesClassifier(x, y):\n",
    "    #boundary condition: 2.5x^2+0.37y^2+10x+3.25y-13.952\n",
    "    val = (2.5*x**2)+(0.37*y**2)+(10*x)+(3.25*y)-13.952 \n",
    "    if(val < 0):\n",
    "        return 1, val\n",
    "    else:\n",
    "        return 0, val\n",
    "#############################################################################\n",
    "def main():\n",
    "    ##################################################################\n",
    "    #parameters\n",
    "    P1 = 0.6\n",
    "    Sigma1 = [[0.1, 0], \n",
    "              [0, 0.4]]\n",
    "    Sigma2 = [[0.2, 0], \n",
    "              [0, 0.6]]\n",
    "    mu1 = [0, 0]\n",
    "    mu2 = [2, 2]\n",
    "    #observation count\n",
    "    N = 1000\n",
    "    #generate test data\n",
    "    x, y = generatedata(P1, mu1, Sigma1, mu2, Sigma2, N)\n",
    "    ##################################################################\n",
    "    #test 100 observation\n",
    "    testN = 100\n",
    "    correct = 0\n",
    "    Z = np.zeros((testN, 2)) \n",
    "    #testing function\n",
    "    for i in range(0, Z.shape[0]):\n",
    "        Z[i] = bayesClassifier(x[i][0], x[i][1]) #test for class\n",
    "        if(Z[i][0] == y[i]): #check for match\n",
    "            correct += 1\n",
    "\n",
    "    accuracy = (correct * 100)/testN\n",
    "    print(\"correct observations out of \"+str(testN)+\" : \", \n",
    "          correct, \"accuracy: \", accuracy)\n",
    "    ##################################################################\n",
    "    #create mesh grid for boundary\n",
    "    xl = np.linspace(np.amin(x, axis=0)[0], np.amax(x, axis=0)[0], 1000)\n",
    "    yl = np.linspace(np.amin(x, axis=0)[1], np.amax(x, axis=0)[1], 1000)\n",
    "    X,Y = np.meshgrid(xl,yl)\n",
    "    z = (2.5*X**2)+(0.37*Y**2)+(10*X)+(3.25*Y)-13.952 #solving for meshgrid\n",
    "    zl = np.zeros_like(z, dtype = int) #get array of zeros of z.shape\n",
    "    #evaluate boundary line\n",
    "    zl[z>0] = 1;\n",
    "    zl[z<0] = -1\n",
    "    ##################################################################\n",
    "    #plot boundary condition curve\n",
    "    cp = plt.contour(X, Y, z, levels = [0], colors = ('black'))\n",
    "    plt.contourf(X, Y, zl, colors=('g','orange'))\n",
    "    ##################################################################\n",
    "    #plot x with both classes\n",
    "    plt.scatter(x[y==1][:,0], x[y==1][:, 1], color=\"red\")\n",
    "    plt.scatter(x[y==0][:,0], x[y==0][:, 1], color=\"blue\")\n",
    "    plt.axvline(x=0)\n",
    "    plt.axhline(y=0)\n",
    "    plt.show()    \n",
    "    return\n",
    "##################################################################################\n",
    "main() #start program\n"
   ]
  },
  {
   "cell_type": "code",
   "execution_count": null,
   "metadata": {},
   "outputs": [],
   "source": []
  }
 ],
 "metadata": {
  "kernelspec": {
   "display_name": "Python 3",
   "language": "python",
   "name": "python3"
  },
  "language_info": {
   "codemirror_mode": {
    "name": "ipython",
    "version": 3
   },
   "file_extension": ".py",
   "mimetype": "text/x-python",
   "name": "python",
   "nbconvert_exporter": "python",
   "pygments_lexer": "ipython3",
   "version": "3.6.0"
  }
 },
 "nbformat": 4,
 "nbformat_minor": 2
}
