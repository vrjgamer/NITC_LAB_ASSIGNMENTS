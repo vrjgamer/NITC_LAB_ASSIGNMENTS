{
 "cells": [
  {
   "cell_type": "markdown",
   "metadata": {},
   "source": [
    "### Generate data from Gaussian disttributions\n",
    "- Let us have the case where the class probabilities $P_1, P_2, p_1(x),p_2(x)$ are known.\n",
    "- Assume that $p_i(x) = N(\\mu_i,\\Sigma_i)$ and $x$ is m-dimensional.\n",
    "- Develop a Bayesian decision function that can differentiate the two classes.(The boundary equation may be derived on paper and used to write the program. This avoids the usage of exponent operations )\n",
    "- The data to test the algorithm has to be generated. The following snippet generates one dimensional data belonging to two classes with the given probabilities."
   ]
  },
  {
   "cell_type": "code",
   "execution_count": 3,
   "metadata": {},
   "outputs": [
    {
     "data": {
      "image/png": "[encoded data removed]",
      "text/plain": [
       "<matplotlib.figure.Figure at 0x7fc7a8dc8588>"
      ]
     },
     "metadata": {},
     "output_type": "display_data"
    }
   ],
   "source": [
    "import numpy as np\n",
    "import matplotlib.pyplot as plt\n",
    "\n",
    "def generatedata(P1,mu1,Sigma1,mu2,Sigma2,N):\n",
    "    Y = np.zeros(N)\n",
    "    t = np.random.uniform(0,1,N)\n",
    "    Y[t<=P1] = 1\n",
    "    N1 = int(np.sum(Y))\n",
    "    X = np.zeros(N)\n",
    "    X[Y == 1] = np.sqrt(Sigma1)*np.random.randn(N1) + mu1\n",
    "    X[Y == 0] = np.sqrt(Sigma2)*np.random.randn(N - N1) + mu2\n",
    "    return X,Y\n",
    "P1 = 0.7\n",
    "P2 = 1 - P1\n",
    "Sigma1 = 0.1\n",
    "Sigma2 = 0.5\n",
    "mu1 = 1\n",
    "mu2 = 5\n",
    "N = 1000\n",
    "X,Y = generatedata(P1,mu1,Sigma1,mu2,Sigma2,N)\n",
    "\n",
    "plt.hist(X, bins = 1000)\n",
    "plt.show()"
   ]
  },
  {
   "cell_type": "markdown",
   "metadata": {},
   "source": [
    "#### Assignment 1\n",
    "- Extend the function above to generate multidimensional (dimension = $m$) data when $P_1, P_2, \\mu_1, \\mu_2, \\Sigma_1, \\Sigma_2$ are given. (*Hint use np.random.multivariate_normal*)\n",
    "- Generate 1000 samples of 2-dimensional data using the function above and scatter plot it to see the spatial distribution?(*use matplotlib.pyplot.scatter*) The parameter values are $P_1 = 0.6; \\mu_1 = (0,0); \\mu_2 = (2,2);$ $ \\Sigma_1 =  \\begin{bmatrix} 0.1 & 0 \\\\ 0 & 0.4 \\end{bmatrix}; \\Sigma_1 =  \\begin{bmatrix} 0.2 & 0 \\\\ 0 & 0.6 \\end{bmatrix} $\n"
   ]
  },
  {
   "cell_type": "markdown",
   "metadata": {},
   "source": [
    "- Find the polynomial equation for the discriminating boundary between the two classes.\n",
    "- Write a function bayesClassifier that accepts a data observation and returns the class label"
   ]
  },
  {
   "cell_type": "code",
   "execution_count": 4,
   "metadata": {},
   "outputs": [],
   "source": [
    "''' Input : x = data vector \n",
    "    Return Value : Preddicted class label'''\n",
    "def bayesClassifier(x,):\n",
    "    '''fill in the details'''"
   ]
  },
  {
   "cell_type": "markdown",
   "metadata": {},
   "source": [
    "- Use this function to label the generated 100 observations.\n",
    "- Compute the classification accuracy. ( $\\frac{Number\\; of \\;Samples\\; Correctly\\; classified \\times 100}{Total\\; Number\\; of\\; Samples}$)\n",
    "- plot the data observations, the two regions correspoing to the two classes and the decision boundary together on the same plot."
   ]
  },
  {
   "cell_type": "code",
   "execution_count": 3,
   "metadata": {},
   "outputs": [
    {
     "name": "stdout",
     "output_type": "stream",
     "text": [
      "correct observations out of 100 :  100 accuracy:  100.0\n",
      "[[-0.87101238 -0.86679729 -0.8625822  ...,  3.3314286   3.33564368\n",
      "   3.33985877]\n",
      " [-0.87101238 -0.86679729 -0.8625822  ...,  3.3314286   3.33564368\n",
      "   3.33985877]\n",
      " [-0.87101238 -0.86679729 -0.8625822  ...,  3.3314286   3.33564368\n",
      "   3.33985877]\n",
      " ..., \n",
      " [-0.87101238 -0.86679729 -0.8625822  ...,  3.3314286   3.33564368\n",
      "   3.33985877]\n",
      " [-0.87101238 -0.86679729 -0.8625822  ...,  3.3314286   3.33564368\n",
      "   3.33985877]\n",
      " [-0.87101238 -0.86679729 -0.8625822  ...,  3.3314286   3.33564368\n",
      "   3.33985877]]\n"
     ]
    },
    {
     "data": {
      "image/png": "[encoded data removed]",
      "text/plain": [
       "<matplotlib.figure.Figure at 0x91b3bd0>"
      ]
     },
     "metadata": {},
     "output_type": "display_data"
    }
   ],
   "source": [
    "import numpy as np\n",
    "import matplotlib.pyplot as plt\n",
    "#############################################################################\n",
    "#function to generate test data\n",
    "def generatedata(P1, mu1, Sigma1, mu2, Sigma2, N):\n",
    "    Y = np.zeros(N)\n",
    "    t = np.random.uniform(0, 1, N) #uniform distribution between 0 - 1\n",
    "    Y[t<=P1] = 1 # assign the class lables to N*P1 elements\n",
    "    N1 = int(np.sum(Y)) #get count of all y==1 elements\n",
    "    X = np.zeros((N,2)) # x 2-d array\n",
    "    X[Y == 1] = np.random.multivariate_normal(mu1, Sigma1, N1)\n",
    "    X[Y == 0] = np.random.multivariate_normal(mu2, Sigma2, N-N1) \n",
    "    return X,Y\n",
    "#############################################################################\n",
    "#bayesian classifier function\n",
    "def bayesClassifier(x, y):\n",
    "    #boundary condition: 2.5x^2+0.37y^2+10x+3.25y-13.952\n",
    "    val = (2.5*x**2)+(0.37*y**2)+(10*x)+(3.25*y)-13.952 \n",
    "    if(val < 0):\n",
    "        return 1\n",
    "    else:\n",
    "        return 0\n",
    "#############################################################################\n",
    "def main():\n",
    "    ##################################################################\n",
    "    #parameters\n",
    "    P1 = 0.6\n",
    "    Sigma1 = [[0.1, 0], \n",
    "              [0, 0.4]]\n",
    "    Sigma2 = [[0.2, 0], \n",
    "              [0, 0.6]]\n",
    "    mu1 = [0, 0]\n",
    "    mu2 = [2, 2]\n",
    "    #observation count\n",
    "    N = 1000\n",
    "    #generate test data\n",
    "    x, y = generatedata(P1, mu1, Sigma1, mu2, Sigma2, N)\n",
    "    ##################################################################\n",
    "    #test 100 observation\n",
    "    testN = 100\n",
    "    correct = 0\n",
    "    Z = np.zeros(testN) \n",
    "    #testing function\n",
    "    for i in range(0, Z.shape[0]):\n",
    "        Z[i] = bayesClassifier(x[i][0], x[i][1]) #test for class\n",
    "        if(Z[i] == y[i]): #check for match\n",
    "            correct += 1\n",
    "\n",
    "    accuracy = (correct * 100)/testN\n",
    "    print(\"correct observations out of \"+str(testN)+\" : \", \n",
    "          correct, \"accuracy: \", accuracy)\n",
    "    ##################################################################\n",
    "    #create mesh grid for boundary\n",
    "    xl = np.linspace(np.amin(x, axis=0)[0], np.amax(x, axis=0)[0], 1000)\n",
    "    yl = np.linspace(np.amin(x, axis=0)[1], np.amax(x, axis=0)[1], 1000)\n",
    "    X,Y = np.meshgrid(xl,yl)\n",
    "    z = (2.5*X**2)+(0.37*Y**2)+(10*X)+(3.25*Y)-13.952 #solving for meshgrid\n",
    "    zl = np.zeros_like(z, dtype = int) #get array of zeros of z.shape\n",
    "    #evaluate boundary line\n",
    "    zl[z>0] = 1;\n",
    "    zl[z<0] = -1\n",
    "    ##################################################################\n",
    "    #plot boundary condition curve\n",
    "    cp = plt.contour(X, Y, z, levels = [0], colors = ('black'))\n",
    "    plt.contourf(X, Y, zl, colors=('g','orange'))\n",
    "    ##################################################################\n",
    "    #plot x with both classes\n",
    "    plt.scatter(x[y==1][:,0], x[y==1][:, 1], color=\"red\")\n",
    "    plt.scatter(x[y==0][:,0], x[y==0][:, 1], color=\"blue\")\n",
    "    plt.axvline(x=0)\n",
    "    plt.axhline(y=0)\n",
    "    plt.show()    \n",
    "    return\n",
    "##################################################################################\n",
    "main() #start program"
   ]
  },
  {
   "cell_type": "code",
   "execution_count": null,
   "metadata": {},
   "outputs": [],
   "source": []
  }
 ],
 "metadata": {
  "kernelspec": {
   "display_name": "Python 3",
   "language": "python",
   "name": "python3"
  },
  "language_info": {
   "codemirror_mode": {
    "name": "ipython",
    "version": 3
   },
   "file_extension": ".py",
   "mimetype": "text/x-python",
   "name": "python",
   "nbconvert_exporter": "python",
   "pygments_lexer": "ipython3",
   "version": "3.6.0"
  }
 },
 "nbformat": 4,
 "nbformat_minor": 2
}
