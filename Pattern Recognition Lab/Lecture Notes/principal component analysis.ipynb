{
 "cells": [
  {
   "cell_type": "code",
   "execution_count": 1,
   "metadata": {},
   "outputs": [],
   "source": [
    "import numpy as np\n",
    "import matplotlib.pyplot as plt\n",
    "from matplotlib.lines import Line2D as line"
   ]
  },
  {
   "cell_type": "code",
   "execution_count": 2,
   "metadata": {},
   "outputs": [
    {
     "data": {
      "text/plain": [
       "<matplotlib.collections.PathCollection at 0xf36e690>"
      ]
     },
     "execution_count": 2,
     "metadata": {},
     "output_type": "execute_result"
    },
    {
     "data": {
      "image/png": "[encoded data removed]",
      "text/plain": [
       "<matplotlib.figure.Figure at 0xe327d30>"
      ]
     },
     "metadata": {},
     "output_type": "display_data"
    }
   ],
   "source": [
    "C = np.array([[1,0],[0,0.1]])\n",
    "R = np.array([[np.cos(np.pi/3),-np.sin(np.pi/3)],[np.sin(np.pi/3),np.cos(np.pi/3)]])\n",
    "X = R.dot(C.dot(np.random.randn(2,100)))\n",
    "\n",
    "\n",
    "fig,ax = plt.subplots()\n",
    "ax.axvline(x=0,color='k')\n",
    "ax.axhline(y=0,color='k')\n",
    "plt.grid(True)\n",
    "plt.scatter(X[0],X[1])\n",
    "\n"
   ]
  },
  {
   "cell_type": "markdown",
   "metadata": {},
   "source": [
    "Consider the points scattered as above. From the figure it is clear that the data has a direction. This lecture is find the direction of the data. Another way of looking at it is to find a direction which best represents the data. That is, if you extend the unit vector representing the direction the distance of the data vectors from the extended vector will be minimum. This scenario is depicted in the figure below:"
   ]
  },
  {
   "cell_type": "code",
   "execution_count": 6,
   "metadata": {},
   "outputs": [
    {
     "data": {
      "image/png": "[encoded data removed]",
      "text/plain": [
       "<matplotlib.figure.Figure at 0xf442e90>"
      ]
     },
     "metadata": {},
     "output_type": "display_data"
    }
   ],
   "source": [
    "u,s,v = np.linalg.svd(X)\n",
    "l = line([0,-u[0,0]],[0,-u[0,1]],color='m')\n",
    "ax.add_line(l)\n",
    "plt.scatter(-u[0,0],-u[1,0],color='r')\n",
    "plt.show()\n"
   ]
  },
  {
   "cell_type": "markdown",
   "metadata": {},
   "source": [
    "Both interpreteations will lead to the solution as the ensuing discussion shows. Let us start with the first interpretation. \n",
    "\n",
    "We want to find the direction of maximum variance. For that let us take a unit vector $p$ and project the data onto the vector. The vector $p$ along which the projections vary most will be the direction of maximum variance. (And projection of a vector $x$ on a unit vector $u$ is given by $x^Tp$. Assume the $x$ is a zero mean random variable. That is, $Ex=0$. \n",
    "Therefore $Ex^Tp = 0$ as well. \n",
    "\n",
    "Hence variance of the projections is given by $E\\{(x^Tp)^2\\}$. Now $(x^Tp)^2 = p^Txx^Tp$. This way of writing the expression lets us write variance of projection in terms of the covariance matrix of $x$. The covariance matrix of $x$ is defined as : $C = Exx^T$. Variance of the projections therefore can be written as : $E\\{(x^Tp)^2\\} = p^TExx^Tp = p^TCp$. Therefore finding the direction of maximum variance is obtained by solving :\n",
    "             \\begin{equation}\n",
    "                \\min_p -p^TCp\n",
    "             \\end{equation}\n",
    "subject to :\n",
    "            \\begin{equation}\n",
    "               \\lVert p \\rVert^2 = 1\n",
    "            \\end{equation}\n",
    "(The constraint is because we are looking for the directions and hence we need only unit vectors)\n",
    "\n",
    "Now take the Lagrangean and differentiate it wrt $p$ and set it to $0$. This yields : $Cp = \\lambda p$, ($\\lambda$ is the lagrangean multiplier). We need to maximize $p^TCp = \\lambda$. Hence we define $p$ to be the eigen vector corresponding to the largest eigen value \\lambda_1 of $C$. \n",
    "\n",
    "Computationally this is done using singular value decomposition of the matrix $X=[x_1,x_2,\\cdots x_n]$.(***Please google for Singular Value Decomposition***)\n",
    "\n",
    "Now we will go to the best representative interpretation. For a data vector $x$ the representation wrt $p$ is given by $(x^Tp) p$. Therefore the expected error on representing the $x$ with $p$ is given by $ mse = E\\lVert x - (x^Tp)p \\rVert^2 = E\\{\\lVert x \\rVert^2 + (x^Tp)^2 \\lVert p \\rVert^2 - (x^Tp)^2 \\} = E\\lVert x \\rVert^2 - p^TCp $\n",
    "\n",
    "Therefore minimizing error leads to the optimization problem below:\n",
    "        \\begin{equation}\n",
    "         \\min_p   -p^TCp\n",
    "       \\end{equation}\n",
    "subject to :\n",
    "            \\begin{equation}\n",
    "               \\lVert p \\rVert^2 = 1\n",
    "            \\end{equation}\n",
    "\n",
    "Note that this is same as the formulation for the previous interpretation.\n",
    "\n",
    "Now the solution $p$ obtained is called the **First Principal Component**.hence forth we will refer to it as $p_1$ to show that it is the First PC. \n",
    "\n",
    "Now we have found a vector which represents the data well (but not fully). Representation with respect to the first Principal Component leads a residue: $r = x - (x^Tp)p $. If we want to reduce the error further, we will compute a direction which represents the residue well. This is easy considering the discussion so far. We will find the First Principal Component of the residue. Now the covariance matrix of $r$ is given by $C_1 = Err^T$. The reader may refer to the lecture notes to see that $C_1 = C - \\lambda_1 pp^T$. This means that the largest eigen value $\\lambda_2$ of $C_1$ is the second largest eigen value of $C$. Using the same arguments as above we can see that the third principal component is the eigen vector of $C$ corresponding to the third largest eigen value.\n",
    "\n",
    "\n",
    "We can iteratively find the third principal component by taking the residue $r = x - (x^Tp_1)p_1 - (x^Tp_2)p_2$. \n",
    "\n",
    "\n",
    "We can therefore repeat the process $k$ times where $k$ is the rank of $C$.\n",
    "\n"
   ]
  },
  {
   "cell_type": "code",
   "execution_count": 4,
   "metadata": {},
   "outputs": [],
   "source": [
    "X = X - X.mean(axis=1)[:,np.newaxis]# subtract mean from the data to make it zero mean(centering the data)\n",
    "C = np.dot(X,X.T)/X.shape[1] #covariance matrix of X\n",
    "E,P = np.linalg.eig(C)\n",
    "p1 = P[:, np.argmax(E)]#take the eigen vector correspnding to the largest eigen vector.\n"
   ]
  },
  {
   "cell_type": "code",
   "execution_count": 5,
   "metadata": {},
   "outputs": [
    {
     "data": {
      "image/png": "[encoded data removed]",
      "text/plain": [
       "<matplotlib.figure.Figure at 0xe327250>"
      ]
     },
     "metadata": {},
     "output_type": "display_data"
    }
   ],
   "source": [
    "fig,ax = plt.subplots()\n",
    "ax.axvline(x=0,color='k')\n",
    "ax.axhline(y=0,color='k')\n",
    "plt.grid(True)\n",
    "plt.scatter(X[0],X[1])\n",
    "\n",
    "#plotting the first principal component direction.\n",
    "l = line([0,p1[0]],[0,p1[1]],color='m')\n",
    "ax.add_line(l)\n",
    "#plt.scatter(-u[0,0],-u[1,0],color='r')\n",
    "plt.show()"
   ]
  },
  {
   "cell_type": "markdown",
   "metadata": {},
   "source": [
    "## Dimensionality Reduction\n",
    "Starting from the first principal component $p_1$ we can go on finding PCs till the residue becomes small in magnitude. \n",
    "Now expected magnitude of the residue of the first $j$ PCs is given by $E\\lVert x - \\sum_{i=1}^{j} (x^p_i) p_i \\rVert^2$ .\n",
    "The reader is advised to prove that the error is equal to $\\sum_{i=j+1}^{k} \\lambda_i $. \n",
    "\n",
    "Therefore if the eigen values are sufficiently small then the representation is fairly accurate. This reduces the dimensionality of the data, since you will be using the first few eigen vectoras of $C$ only to represent the data vector. For instance, the data can be say 100 dimensional, but the $C$ may have only the first $5$ eigen values to be of significant magnitude. In this case you need to use only the first $5$ PCs to represent the data. The dimension of the data gets reduced to 5. \n",
    "\n",
    "\n",
    "## Use the pima indian diabetes data set to compute the PCs. Plot the error magnitude with incresing number of PCs in the representation."
   ]
  },
  {
   "cell_type": "code",
   "execution_count": null,
   "metadata": {},
   "outputs": [],
   "source": []
  }
 ],
 "metadata": {
  "kernelspec": {
   "display_name": "Python 3",
   "language": "python",
   "name": "python3"
  },
  "language_info": {
   "codemirror_mode": {
    "name": "ipython",
    "version": 3
   },
   "file_extension": ".py",
   "mimetype": "text/x-python",
   "name": "python",
   "nbconvert_exporter": "python",
   "pygments_lexer": "ipython3",
   "version": "3.6.0"
  }
 },
 "nbformat": 4,
 "nbformat_minor": 2
}
