{
 "cells": [
  {
   "cell_type": "markdown",
   "metadata": {},
   "source": [
    "## Bayesian Classifier"
   ]
  },
  {
   "cell_type": "markdown",
   "metadata": {},
   "source": [
    "- This is a problem of categorizing data. \n",
    "- That is the desired response is a discrete variable taking a finite set of values.\n",
    "    - Suppose you are given the performance of a student in say, Mathematics, out of two subjects, how accurately can you predict final overall grade. (Assume there are 4 grades A,B,C,D)\n",
    "        - In this case  the grade is the category and mathematics marks is the data given to you."
   ]
  },
  {
   "cell_type": "markdown",
   "metadata": {},
   "source": [
    "- You might be wrong with your prediction\n",
    "- Let us try to make a prediction such that the **probability of going wrong is as low as possible**."
   ]
  },
  {
   "cell_type": "markdown",
   "metadata": {},
   "source": [
    "- We are given an observation $x$ which is coming from a class (population) $\\pi_1$ or $\\pi_2$\n",
    "- Assume that $x = (x_1,x_2,x_3,\\cdots,x_m) \\in \\Re^m $\n",
    "- We assume that the two classes have probabilities $q_1$ and $q_2$ respectively ($q_1+q_2 = 1)$.\n",
    "- Another assumption is that the distribution of $x$ in classes are also known, denoted by $p_1(x)$ and $p_2(x)$   respectively."
   ]
  },
  {
   "cell_type": "markdown",
   "metadata": {},
   "source": [
    "- A statistical decision essentially divides $\\Re^m$ into two regions $R_1$ and $R_2$.\n",
    "- If an observation falls in $R_1$ the procedure assigns it to class $\\pi_1$ \n",
    "- If an observation falls in $R_2$ the procedure assigns it to class $\\pi_2$ "
   ]
  },
  {
   "cell_type": "code",
   "execution_count": 3,
   "metadata": {},
   "outputs": [
    {
     "data": {
      "image/png": "[encoded data removed]",
      "text/plain": [
       "<matplotlib.figure.Figure at 0x7f0430289da0>"
      ]
     },
     "metadata": {},
     "output_type": "display_data"
    }
   ],
   "source": [
    "import numpy as np\n",
    "import matplotlib.pyplot as plt\n",
    "\n",
    "def p1(x,y):\n",
    "    power = ((x+5)*(x+5) + (y+5)*(y+5))*0.15\n",
    "    return np.exp(-power)\n",
    "\n",
    "def p2(x,y):\n",
    "    power = ((x-5)*(x-5) + (y-5)*(y-5))*0.5\n",
    "    return np.exp(-power)\n",
    "\n",
    "xl = np.linspace(-10,10,1000)\n",
    "yl = np.linspace(-10,10,1000)\n",
    "x,y = np.meshgrid(xl,yl)\n",
    "\n",
    "z = 0.25*p1(x,y) - 0.75*p2(x,y)\n",
    "zl = np.zeros_like(z, dtype = int)\n",
    "zl[z>0] = 1;zl[z<0] = -1\n",
    "cp = plt.contour(x,y,z, levels = [0], colors = ('r'))\n",
    "plt.contourf(x,y,zl,colors=('m','y'))\n",
    "plt.annotate(\"R1\",xy=(-5,0))\n",
    "plt.annotate(\"R2\",xy=(7.5,0))\n",
    "plt.axvline(x=0)\n",
    "plt.axhline(y=0)\n",
    "plt.grid(True)\n",
    "plt.show()"
   ]
  },
  {
   "cell_type": "markdown",
   "metadata": {},
   "source": [
    "- **Bayes Decision Rule**\n",
    "- Assign x to $ \\pi_1 $ if $P(\\pi_1 \\vert x) > P(\\pi_2 \\vert x)$ and vice versa\n",
    "- The boundary that divides the input space is determined by solving \n",
    "     - $q_1 p_1(x) = q_2 p_2(x) $"
   ]
  },
  {
   "cell_type": "markdown",
   "metadata": {
    "collapsed": true
   },
   "source": [
    "#### Probability of Error \n",
    "- There are two types of errors\n",
    "- An observation belonging to class $\\pi_1$ getting classified as $\\pi_2$ and vice versa.\n",
    "- Let us call the first type of error $E_{21}$ and the second type $E_{12}$.\n"
   ]
  },
  {
   "cell_type": "markdown",
   "metadata": {},
   "source": [
    "- $P(E_{21}) = Prob\\{ x \\in R_2 \\& \\; \\pi(x) = \\pi_1\\}\\\\\n",
    "      =  Prob\\{ x \\in R_2 \\vert  \\pi(x) = \\pi_1\\}Prob\\{\\pi(x) = \\pi_1 \\} \\\\\n",
    "      = \\int_{R_2} p_1(x)q_1 dx$\n",
    "- Similarly\n",
    "- $P(E_{12}) = Prob\\{ x \\in R_1 \\& \\; \\pi(x) = \\pi_2\\}\\\\\n",
    "      =  Prob\\{ x \\in R_1 \\vert  \\pi(x) = \\pi_2\\}Prob\\{\\pi(x) = \\pi_2 \\} \\\\\n",
    "      = \\int_{R_1} p_2(x)q_2 dx$"
   ]
  },
  {
   "cell_type": "markdown",
   "metadata": {},
   "source": [
    "- Therefore the probability of error:\n",
    "- $P(E) = P(E_{12})+P(E_{21}) \\\\ = \\int_{R_2} p_1(x)q_1 dx + \\int_{R_1} p_2(x)q_2 dx $"
   ]
  },
  {
   "cell_type": "markdown",
   "metadata": {},
   "source": [
    "- Everything in the above equation is constant except for $R_1$ and $R_2$\n",
    "- Bayes Decision is to find $R_1$ and $R_2$ such that $P(E)$ is minimized.\n",
    "- Let us go back to $P(E)$ to figure out a way of choosing the regions.\n"
   ]
  },
  {
   "cell_type": "markdown",
   "metadata": {},
   "source": [
    "- $P(E) = \\int_{R_2} p_1(x)q_1 dx + \\int_{R_1} p_2(x)q_2 dx \\\\\n",
    "        = q_1 - \\int_{R_1} p_1(x)q_1 dx + \\int_{R_1} p_2(x)q_2 dx \\\\\n",
    "        = q_1 + (\\int_{R_1} p_2(x)q_2 dx- \\int_{R_1} p_1(x)q_1 dx)  \\\\\n",
    "        = q_1 + \\int_{R_1}( p_2(x)q_2 -  p_1(x)q_1 )dx $"
   ]
  },
  {
   "cell_type": "markdown",
   "metadata": {},
   "source": [
    "- Since the first term above is a constant the way to minimize $P(E)$ is to choose $R_1$ such that \n",
    "  $ p_2(x)q_2 -  p_1(x)q_1$ is always negative. That is,\n",
    "- $ p_2(x)q_2 <  p_1(x)q_1$\n",
    "- And this implies :\n",
    "- $P(\\pi_1 \\vert x) > P(\\pi_1 \\vert x)$"
   ]
  },
  {
   "cell_type": "code",
   "execution_count": null,
   "metadata": {
    "collapsed": true
   },
   "outputs": [],
   "source": []
  }
 ],
 "metadata": {
  "kernelspec": {
   "display_name": "Python 3",
   "language": "python",
   "name": "python3"
  },
  "language_info": {
   "codemirror_mode": {
    "name": "ipython",
    "version": 3
   },
   "file_extension": ".py",
   "mimetype": "text/x-python",
   "name": "python",
   "nbconvert_exporter": "python",
   "pygments_lexer": "ipython3",
   "version": "3.6.0"
  }
 },
 "nbformat": 4,
 "nbformat_minor": 2
}
