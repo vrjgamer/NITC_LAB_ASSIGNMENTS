{
 "cells": [
  {
   "cell_type": "markdown",
   "metadata": {},
   "source": [
    "- Let us see how a decision boundary is derived from the arguments above.\n",
    "- As we have seen earlier the boundary is obtained by solving $P(\\pi_1 | x) = P(\\pi_2 | x)$\n",
    "- Let us take the case of some specific distributions of x to illustrate the idea."
   ]
  },
  {
   "cell_type": "markdown",
   "metadata": {},
   "source": [
    "- Let $x$ be d-dimensional random vectors coming from two normal distributions corresponding to the two classes.\n",
    "- That is, $p_i(x) = N(\\mu_i, \\Sigma_i)$, $\\mu_i, \\Sigma_i$ being the means and covariance matrices of the respective classes.\n",
    "- Therefore, $p_i(x) = \\frac{1}{ {(2*\\pi)}^{d/2} |\\Sigma|^{1/2}}e^{-\\frac{(x-\\mu_i)^T \\Sigma_i^{-1} (x-\\mu_i)}{2}}$\n"
   ]
  },
  {
   "cell_type": "markdown",
   "metadata": {},
   "source": [
    "- Now $P(\\pi_1|x) = P(\\pi_2|x)$ translates to the following equation by taking log on both sides.\n",
    "- $-\\frac{(x-\\mu_1)^T \\Sigma_1^{-1} (x-\\mu_1)}{2} + \\ln(q_1) - \\frac{d}{2}{\\ln(2\\pi)} - \\frac{1}{2} \\ln(|\\Sigma_1|) =  -\\frac{(x-\\mu_2)^T \\Sigma_2^{-1} (x-\\mu_2)}{2} + \\ln(q_2) - \\frac{d}{2}{\\ln(2\\pi)} - \\frac{1}{2} \\ln(|\\Sigma_2|)$"
   ]
  },
  {
   "cell_type": "code",
   "execution_count": 16,
   "metadata": {},
   "outputs": [
    {
     "data": {
      "image/png": "[encoded data removed]",
      "text/plain": [
       "<matplotlib.figure.Figure at 0x7f88c1ed3a20>"
      ]
     },
     "metadata": {},
     "output_type": "display_data"
    }
   ],
   "source": [
    "import numpy as np \n",
    "import matplotlib.pyplot as plt\n",
    "\n",
    "def g(x,p,mu,sigma):\n",
    "    n = x.shape[1]\n",
    "    mu = np.squeeze(mu)\n",
    "    mu = mu[:,np.newaxis]\n",
    "    sigma_inv = np.linalg.inv(sigma)\n",
    "    g = []\n",
    "    for i in range(n):\n",
    "        x_i = x[:,i]\n",
    "        x_i = x_i[:,np.newaxis]\n",
    "        t_i = np.dot((x_i - mu).T, sigma_inv)\n",
    "        t_i = -0.5*np.dot(t_i, x_i - mu)\n",
    "        g_i = t_i + np.log(p) - 0.5*np.log(np.linalg.det(sigma))\n",
    "        g.append(g_i)\n",
    "    g = np.squeeze(np.array(g))\n",
    "    return g\n",
    "\n",
    "xrange = np.linspace(-10,10,100)\n",
    "yrange = np.linspace(-10,10,100)\n",
    "x,y = np.meshgrid(xrange, yrange)\n",
    "X = np.zeros((2,np.prod(x.shape)))\n",
    "X[0,:] = x.ravel()\n",
    "X[1,:] = y.ravel()\n",
    "p_1 = 0.5;p_2 = 0.5\n",
    "mu_1 = np.array([1,1])[:,np.newaxis]\n",
    "mu_2 = np.array([2,2])[:,np.newaxis]\n",
    "sigma_1 = np.diag([0.5,2])\n",
    "sigma_2 = 0.5*np.eye((2))\n",
    "g_1 = g(X,p_1,mu_1,sigma_1) \n",
    "g_2 = g(X,p_2,mu_2,sigma_2) \n",
    "g_1 = g_1.reshape(*x.shape)\n",
    "g_2 = g_2.reshape(*x.shape)             \n",
    "g = g_1 - g_2\n",
    "g_l = np.zeros_like(g)\n",
    "g_l[g<0] = -1.0\n",
    "g_l[g>0] = 1.0\n",
    "contour = plt.contour(g ,levels = [0], colors=['k'])\n",
    "plt.clabel(contour)\n",
    "plt.contourf(g_l,colors=['y','r'])\n",
    "plt.show()\n",
    "        \n",
    "        "
   ]
  },
  {
   "cell_type": "markdown",
   "metadata": {},
   "source": [
    "##### Some special cases"
   ]
  },
  {
   "cell_type": "markdown",
   "metadata": {},
   "source": [
    "- **Same covariance matrix for all the classes**\n",
    "- The quadratic term vanishes as the expansion of the first term is $ -\\frac{x^T \\Sigma_i^{-1} x - 2\\mu_i^T \\Sigma_i^{-1} x + \\mu_i^T \\mu_i }{2} $\n",
    "- This leads to a linear decision boundary between the two classes.\n",
    "- *** Find the linear decision boundary equation for a two dimensional case.***\n"
   ]
  },
  {
   "cell_type": "markdown",
   "metadata": {},
   "source": [
    "-**$\\Sigma_i = \\sigma^2 I $ ** for both classes\n",
    "- And the classes are equiprobable."
   ]
  },
  {
   "cell_type": "markdown",
   "metadata": {},
   "source": [
    "### Incorporating cost of misclassification"
   ]
  },
  {
   "cell_type": "markdown",
   "metadata": {},
   "source": [
    "- Assume putting a class $\\pi_1$ data into $\\pi_2$ incurs a cost given by $C_{21}$\n",
    "- Simiarly $C_{12}$ is the cost of putting class $\\pi_2$ data into $\\pi_1$. \n",
    "- Eg. It very coslty to misclassify a patient with some abnormality as a healthy normal. This scenario is represented by giving a high value for $C_{21}$. The other misclassification is not as costly as the first one. Therefore we can give $C_{1}$ a lower value."
   ]
  },
  {
   "cell_type": "markdown",
   "metadata": {},
   "source": [
    "#### What is the classification objective?"
   ]
  },
  {
   "cell_type": "markdown",
   "metadata": {},
   "source": [
    "- Expected cost of misclassification ( denote it by C)\n",
    "- $ C = C_{12} P(E_{12}) + C_{21} P(E_{21}) $\n",
    "- Finding the regions $R_1$ and $R_2$ follows the same procedure as in the case of minimizing the probability of error.\n",
    "- Prove that the decision boundary equation is obtained by solving $C_{21} p_1(x)q_1 = C_{12} p_2(x)q_2 $\n"
   ]
  }
 ],
 "metadata": {
  "kernelspec": {
   "display_name": "Python 3",
   "language": "python",
   "name": "python3"
  },
  "language_info": {
   "codemirror_mode": {
    "name": "ipython",
    "version": 3
   },
   "file_extension": ".py",
   "mimetype": "text/x-python",
   "name": "python",
   "nbconvert_exporter": "python",
   "pygments_lexer": "ipython3",
   "version": "3.6.0"
  }
 },
 "nbformat": 4,
 "nbformat_minor": 2
}
