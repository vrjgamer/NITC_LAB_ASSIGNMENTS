{
 "cells": [
  {
   "cell_type": "markdown",
   "metadata": {},
   "source": [
    "# Working with Mushrooms\n",
    "Pattern recognition project\n",
    "- Ronnel Davis\n",
    "- Ashiq Muhammed\n",
    "- Vrushabh Jambhulkar\n",
    "- John V George\n",
    "- Vipin Santosh\n",
    "\n",
    "Dataset: https://archive.ics.uci.edu/ml/datasets/Mushroom"
   ]
  },
  {
   "cell_type": "markdown",
   "metadata": {},
   "source": [
    "## Proposal \n",
    "The means of surviving an environment can be anything from starting a fire with a couple of sticks to eating wild edibles. In the wilderness regions, finding edible plant life such as wild mushrooms is often necessary in order to stay alive. The inherent risks of eating the inedible variety are great, with effects ranging from “a mild stomachache to severe physical distress-including vomiting, diarrhea, cramps and loss of coordination.” In the field of botany, no general rule exists for the identification of these dangerous and even life-threatening fungi.\n",
    "\n",
    "The aim of this project is to determine if such a rule exists using the techniques of machine learning. The focus of this project was to use existing data obtained from the University of California-Irvine machine learning repository to see what kind of rules for avoiding potentially poisonous mushrooms can be learned directly from the fungi. The field guide stipulates no such simple classification rule exists either. The ultimate goal was to determine what the most common features of toxic and edible wild mushrooms are."
   ]
  },
  {
   "cell_type": "markdown",
   "metadata": {},
   "source": [
    "### Attribute Information: (classes: edible=e, poisonous=p)\n",
    "    1. cap-shape:                bell=b,conical=c,convex=x,flat=f,\n",
    "                                  knobbed=k,sunken=s\n",
    "    2. cap-surface:              fibrous=f,grooves=g,scaly=y,smooth=s\n",
    "    3. cap-color:                brown=n,buff=b,cinnamon=c,gray=g,green=r,\n",
    "                                  pink=p,purple=u,red=e,white=w,yellow=y\n",
    "    4. bruises?:                 bruises=t,no=f\n",
    "    5. odor:                     almond=a,anise=l,creosote=c,fishy=y,foul=f,\n",
    "                                  musty=m,none=n,pungent=p,spicy=s\n",
    "    6. gill-attachment:          attached=a,descending=d,free=f,notched=n\n",
    "    7. gill-spacing:             close=c,crowded=w,distant=d\n",
    "    8. gill-size:                broad=b,narrow=n\n",
    "    9. gill-color:               black=k,brown=n,buff=b,chocolate=h,gray=g,\n",
    "                                  green=r,orange=o,pink=p,purple=u,red=e,\n",
    "                                  white=w,yellow=y\n",
    "    10. stalk-shape:              enlarging=e,tapering=t\n",
    "    11. stalk-root:               bulbous=b,club=c,cup=u,equal=e,\n",
    "                                  rhizomorphs=z,rooted=r,missing=?\n",
    "    12. stalk-surface-above-ring: fibrous=f,scaly=y,silky=k,smooth=s\n",
    "    13. stalk-surface-below-ring: fibrous=f,scaly=y,silky=k,smooth=s\n",
    "    14. stalk-color-above-ring:   brown=n,buff=b,cinnamon=c,gray=g,orange=o,\n",
    "                                  pink=p,red=e,white=w,yellow=y\n",
    "    15. stalk-color-below-ring:   brown=n,buff=b,cinnamon=c,gray=g,orange=o,\n",
    "                                  pink=p,red=e,white=w,yellow=y\n",
    "    16. veil-type:                partial=p,universal=u\n",
    "    17. veil-color:               brown=n,orange=o,white=w,yellow=y\n",
    "    18. ring-number:              none=n,one=o,two=t\n",
    "    19. ring-type:                cobwebby=c,evanescent=e,flaring=f,large=l,\n",
    "                                  none=n,pendant=p,sheathing=s,zone=z\n",
    "    20. spore-print-color:        black=k,brown=n,buff=b,chocolate=h,green=r,\n",
    "                                  orange=o,purple=u,white=w,yellow=y\n",
    "    21. population:               abundant=a,clustered=c,numerous=n,\n",
    "                                  scattered=s,several=v,solitary=y\n",
    "    22. habitat:                  grasses=g,leaves=l,meadows=m,paths=p,\n",
    "                                  urban=u,waste=w,woods=d"
   ]
  },
  {
   "cell_type": "code",
   "execution_count": 17,
   "metadata": {},
   "outputs": [],
   "source": [
    "classes                   = {\"e\": 0, \"p\": 1}\n",
    "\n",
    "cap_shape                 = {\"b\": 0, \"c\": 1, \"x\": 2, \"f\": 3, \"k\": 4, \"s\": 5}\n",
    "cap_surface               = {\"f\": 0, \"g\": 1, \"y\": 2, \"s\": 3}\n",
    "cap_color                 = {\"n\": 0, \"b\": 1, \"c\": 2, \"g\": 3, \"r\": 4, \"p\": 5, \"u\": 6, \"e\": 7, \"w\": 8, \"y\": 9}\n",
    "cap_bruise                = {\"f\": 0, \"t\": 1}\n",
    "\n",
    "odor                      = {\"a\": 0, \"l\": 1, \"c\": 2, \"y\": 3, \"f\": 4, \"m\": 5, \"n\": 6, \"p\": 7, \"s\": 8}\n",
    "\n",
    "gill_attachment           = {\"a\": 0, \"d\": 1, \"f\": 2, \"n\": 3}\n",
    "gill_spacing              = {\"c\": 0, \"w\": 1, \"d\": 2}\n",
    "gill_size                 = {\"b\": 0, \"n\": 1}\n",
    "gill_color                = {\"k\": 0, \"n\": 1, \"b\": 2, \"h\": 3, \"g\": 4, \"r\": 5, \"o\": 6, \"p\": 7, \"u\": 8, \"e\": 9, \"w\": 10, \"y\": 11}\n",
    "\n",
    "stalk_shape               = {\"e\": 0, \"t\": 1}\n",
    "stalk_surface_around_ring = {\"f\": 0, \"y\": 1, \"k\": 2, \"s\": 3}\n",
    "stalk_surface_below_ring  = {\"f\": 0, \"y\": 1, \"k\": 2, \"s\": 3}\n",
    "stalk_color_below_ring    = {\"n\": 0, \"b\": 1, \"c\": 2, \"g\": 3, \"o\": 4, \"p\": 5, \"e\": 6, \"w\": 7, \"y\": 8}\n",
    "stalk_color_below_ring    = {\"n\": 0, \"b\": 1, \"c\": 2, \"g\": 3, \"o\": 4, \"p\": 5, \"e\": 6, \"w\": 7, \"y\": 8}\n",
    "\n",
    "veil_type                 = {\"p\": 0, \"u\": 1}\n",
    "veil_color                = {\"n\": 0, \"o\": 1, \"w\": 2, \"y\": 3}\n",
    "\n",
    "ring_number               = {\"n\": 0, \"o\": 1, \"t\": 2}\n",
    "ring_type                 = {\"c\": 0, \"e\": 1, \"f\": 2, \"l\": 3, \"n\": 4, \"p\": 5, \"s\": 6, \"z\": 7}\n",
    "\n",
    "spore_print_color         = {\"k\": 0, \"n\": 1, \"b\": 2, \"h\": 3, \"r\": 4, \"o\": 5, \"u\": 6, \"w\": 7, \"y\": 8}\n",
    "\n",
    "population                = {\"a\": 0, \"c\": 1, \"n\": 2, \"s\": 3, \"v\": 4, \"y\": 5}\n",
    "\n",
    "habitat                   = {\"g\": 0, \"l\": 1, \"m\": 2, \"p\": 3, \"u\": 4, \"w\": 5, \"d\": 6}"
   ]
  },
  {
   "cell_type": "markdown",
   "metadata": {},
   "source": [
    "## The following code is used to read the file, get the data as a string and split it into individual vectors. Since the data is encoded as charachters, it is necessary to covert it into integers before working with the data."
   ]
  },
  {
   "cell_type": "code",
   "execution_count": 18,
   "metadata": {},
   "outputs": [],
   "source": [
    "import numpy as np\n",
    "def getVectorRepresentationOf(data):\n",
    "    x = [cap_shape[data[1]], cap_surface[data[2]], cap_color[data[3]], cap_bruise[data[4]], \n",
    "           odor[data[5]], gill_attachment[data[6]], gill_spacing[data[7]], gill_size[data[8]], gill_color[data[9]],\n",
    "           stalk_shape[data[10]], stalk_surface_around_ring[data[12]], stalk_surface_below_ring[data[13]], stalk_color_below_ring[data[14]],\n",
    "           stalk_color_below_ring[data[15]], veil_type[data[16]], veil_color[data[17]], ring_number[data[18]], ring_type[data[19]], spore_print_color[data[20]],\n",
    "           population[data[21]], habitat[data[22]]]\n",
    "    y = classes[data[0]]\n",
    "    return x, y\n",
    "\n",
    "myfile = open('data.txt', 'r')\n",
    "data = myfile.read().split(\"\\n\")\n",
    "inputs = []\n",
    "outputs = []\n",
    "for i in data:\n",
    "    arr = i.split(\",\")\n",
    "    if(len(arr) == 23):\n",
    "        x, y = getVectorRepresentationOf(arr)\n",
    "        inputs.append(x)\n",
    "        outputs.append(y)\n",
    "        \n",
    "inputs = np.asarray(inputs)\n",
    "outputs = np.asarray(outputs)"
   ]
  },
  {
   "cell_type": "markdown",
   "metadata": {},
   "source": [
    "## The following code takes the input, splits it into training and test datasets, and finds the principal components of the data"
   ]
  },
  {
   "cell_type": "code",
   "execution_count": 19,
   "metadata": {
    "scrolled": true
   },
   "outputs": [
    {
     "name": "stdout",
     "output_type": "stream",
     "text": [
      "Using  1  components, accuracy is  82.52307692307693 %\n",
      "Using  2  components, accuracy is  68.9846153846154 %\n",
      "Using  3  components, accuracy is  88.24615384615385 %\n",
      "Using  4  components, accuracy is  91.87692307692308 %\n",
      "Using  5  components, accuracy is  87.63076923076923 %\n",
      "Using  6  components, accuracy is  78.58461538461539 %\n",
      "Using  7  components, accuracy is  73.29230769230769 %\n",
      "Using  8  components, accuracy is  73.6 %\n",
      "Using  9  components, accuracy is  82.83076923076923 %\n",
      "Using  10  components, accuracy is  86.64615384615385 %\n",
      "Using  11  components, accuracy is  83.26153846153846 %\n",
      "Using  12  components, accuracy is  83.6923076923077 %\n",
      "Using  13  components, accuracy is  84.3076923076923 %\n",
      "Using  14  components, accuracy is  75.01538461538462 %\n",
      "Using  15  components, accuracy is  76.24615384615385 %\n",
      "Using  16  components, accuracy is  82.39999999999999 %\n",
      "Using  17  components, accuracy is  82.95384615384616 %\n",
      "Using  18  components, accuracy is  88.73846153846155 %\n",
      "Using  19  components, accuracy is  88.98461538461538 %\n",
      "Using  20  components, accuracy is  78.64615384615384 %\n"
     ]
    }
   ],
   "source": [
    "from sklearn.decomposition import PCA as sklearnPCA\n",
    "from sklearn.metrics import accuracy_score\n",
    "from sklearn.naive_bayes import GaussianNB\n",
    "\n",
    "for i in range(1, 21):\n",
    "    sklearn_pca = sklearnPCA(n_components=i)\n",
    "    inputs_PCA = sklearn_pca.fit_transform(inputs)\n",
    "\n",
    "    train_proportion = 0.8\n",
    "    train_test_cut = int(len(inputs_PCA)*train_proportion)\n",
    "\n",
    "    inputs_train, inputs_test, outputs_train, outputs_test = \\\n",
    "        inputs_PCA[:train_test_cut], \\\n",
    "        inputs_PCA[train_test_cut:], \\\n",
    "        outputs[:train_test_cut], \\\n",
    "        outputs[train_test_cut:]\n",
    "\n",
    "    clf = GaussianNB()\n",
    "    clf.fit(inputs_train, outputs_train)\n",
    "    target_pred = clf.predict(inputs_test)\n",
    "    accuracy = accuracy_score(outputs_test, target_pred, normalize = True)\n",
    "    print(\"Using \", i, \" components, accuracy is \", accuracy*100, \"%\")"
   ]
  },
  {
   "cell_type": "markdown",
   "metadata": {},
   "source": [
    "## Conclusion\n",
    "As we can see, the accuracy is highest when only considering the four attributes that show highest variance. "
   ]
  }
 ],
 "metadata": {
  "kernelspec": {
   "display_name": "Python 3",
   "language": "python",
   "name": "python3"
  },
  "language_info": {
   "codemirror_mode": {
    "name": "ipython",
    "version": 3
   },
   "file_extension": ".py",
   "mimetype": "text/x-python",
   "name": "python",
   "nbconvert_exporter": "python",
   "pygments_lexer": "ipython3",
   "version": "3.5.2"
  }
 },
 "nbformat": 4,
 "nbformat_minor": 2
}
